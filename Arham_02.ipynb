{
 "cells": [
  {
   "cell_type": "markdown",
   "metadata": {},
   "source": [
    "# KNN on IRIS DATASET\n",
    "\n",
    "#### By Muhammad Arham\n",
    "#### 1001686912"
   ]
  },
  {
   "cell_type": "code",
   "execution_count": 150,
   "metadata": {},
   "outputs": [],
   "source": [
    "#IMPORTS\n",
    "\n",
    "import pandas as pd\n",
    "import numpy as np\n",
    "import math\n",
    "import operator\n",
    "from collections import Counter"
   ]
  },
  {
   "cell_type": "code",
   "execution_count": 209,
   "metadata": {},
   "outputs": [],
   "source": [
    "# REFERENCES\n",
    "\n",
    "#https://stackoverflow.com/questions/1401712/how-can-the-euclidean-distance-be-calculated-with-numpy\n",
    "#https://stackoverflow.com/questions/18424228/cosine-similarity-between-2-number-lists\n",
    "#https://stackoverflow.com/questions/38161071/how-to-calculate-normalized-euclidean-distance-on-two-vectors/54170399\n",
    "#https://pythonspot.com/matplotlib-bar-chart/\n",
    "#https://www.youtube.com/watch?v=0y0UIwODaRE"
   ]
  },
  {
   "cell_type": "markdown",
   "metadata": {},
   "source": [
    "### Importing the IRIS DATASET"
   ]
  },
  {
   "cell_type": "code",
   "execution_count": 151,
   "metadata": {},
   "outputs": [],
   "source": [
    "col=['sepal_length','sepal_width','petal_length','petal_width','class']\n",
    "data=pd.read_csv(\"iris.data\", header = None, names = col )"
   ]
  },
  {
   "cell_type": "code",
   "execution_count": 152,
   "metadata": {},
   "outputs": [
    {
     "data": {
      "text/html": [
       "<div>\n",
       "<style scoped>\n",
       "    .dataframe tbody tr th:only-of-type {\n",
       "        vertical-align: middle;\n",
       "    }\n",
       "\n",
       "    .dataframe tbody tr th {\n",
       "        vertical-align: top;\n",
       "    }\n",
       "\n",
       "    .dataframe thead th {\n",
       "        text-align: right;\n",
       "    }\n",
       "</style>\n",
       "<table border=\"1\" class=\"dataframe\">\n",
       "  <thead>\n",
       "    <tr style=\"text-align: right;\">\n",
       "      <th></th>\n",
       "      <th>sepal_length</th>\n",
       "      <th>sepal_width</th>\n",
       "      <th>petal_length</th>\n",
       "      <th>petal_width</th>\n",
       "      <th>class</th>\n",
       "    </tr>\n",
       "  </thead>\n",
       "  <tbody>\n",
       "    <tr>\n",
       "      <th>0</th>\n",
       "      <td>5.1</td>\n",
       "      <td>3.5</td>\n",
       "      <td>1.4</td>\n",
       "      <td>0.2</td>\n",
       "      <td>Iris-setosa</td>\n",
       "    </tr>\n",
       "    <tr>\n",
       "      <th>1</th>\n",
       "      <td>4.9</td>\n",
       "      <td>3.0</td>\n",
       "      <td>1.4</td>\n",
       "      <td>0.2</td>\n",
       "      <td>Iris-setosa</td>\n",
       "    </tr>\n",
       "    <tr>\n",
       "      <th>2</th>\n",
       "      <td>4.7</td>\n",
       "      <td>3.2</td>\n",
       "      <td>1.3</td>\n",
       "      <td>0.2</td>\n",
       "      <td>Iris-setosa</td>\n",
       "    </tr>\n",
       "    <tr>\n",
       "      <th>3</th>\n",
       "      <td>4.6</td>\n",
       "      <td>3.1</td>\n",
       "      <td>1.5</td>\n",
       "      <td>0.2</td>\n",
       "      <td>Iris-setosa</td>\n",
       "    </tr>\n",
       "    <tr>\n",
       "      <th>4</th>\n",
       "      <td>5.0</td>\n",
       "      <td>3.6</td>\n",
       "      <td>1.4</td>\n",
       "      <td>0.2</td>\n",
       "      <td>Iris-setosa</td>\n",
       "    </tr>\n",
       "  </tbody>\n",
       "</table>\n",
       "</div>"
      ],
      "text/plain": [
       "   sepal_length  sepal_width  petal_length  petal_width        class\n",
       "0           5.1          3.5           1.4          0.2  Iris-setosa\n",
       "1           4.9          3.0           1.4          0.2  Iris-setosa\n",
       "2           4.7          3.2           1.3          0.2  Iris-setosa\n",
       "3           4.6          3.1           1.5          0.2  Iris-setosa\n",
       "4           5.0          3.6           1.4          0.2  Iris-setosa"
      ]
     },
     "execution_count": 152,
     "metadata": {},
     "output_type": "execute_result"
    }
   ],
   "source": [
    "data.head()"
   ]
  },
  {
   "cell_type": "code",
   "execution_count": 153,
   "metadata": {},
   "outputs": [],
   "source": [
    " from sklearn.model_selection import train_test_split"
   ]
  },
  {
   "cell_type": "markdown",
   "metadata": {},
   "source": [
    "### Splitting data into development and test set"
   ]
  },
  {
   "cell_type": "code",
   "execution_count": 306,
   "metadata": {},
   "outputs": [],
   "source": [
    "x=iris.iloc[:,:4]\n",
    "y=iris[\"class\"]\n",
    "\n",
    "# 80/20 split of dataset\n",
    "x_develop,x_test,y_develop,y_test=train_test_split(x,y,test_size=0.2,random_state=np.random)\n",
    "# converting dataframe into numpy arrays for easier iteration later on\n",
    "x_develop,x_test,y_develop,y_test = np.array(x_develop),np.array(x_test),np.array(y_develop),np.array(y_test)"
   ]
  },
  {
   "cell_type": "markdown",
   "metadata": {},
   "source": [
    "### Hyperparameter Calculations"
   ]
  },
  {
   "cell_type": "markdown",
   "metadata": {},
   "source": [
    "#### Euclidean Distance"
   ]
  },
  {
   "cell_type": "code",
   "execution_count": 307,
   "metadata": {},
   "outputs": [],
   "source": [
    "def euclidean_distance(row1, row2):\n",
    "    distance = 0.0\n",
    "    for i in range(len(row1)-1):\n",
    "        distance += (row1[i] - row2[i])**2\n",
    "        ##distance += scipy.spatial.distance.euclidean(row1,row2)\n",
    "    return math.sqrt(distance)\n"
   ]
  },
  {
   "cell_type": "markdown",
   "metadata": {},
   "source": [
    "#### Cosine Similarity"
   ]
  },
  {
   "cell_type": "code",
   "execution_count": 318,
   "metadata": {},
   "outputs": [],
   "source": [
    "def cosine_similarity(row1, row2):\n",
    "    sim = 0.0\n",
    "    #sim = np.inner(row1, row2) / (norm(row1) * norm(row2))\n",
    "    #\n",
    "    dot = np.dot(row1, row2)\n",
    "    norm1 = np.linalg.norm(row1)\n",
    "    norm2 = np.linalg.norm(row2)\n",
    "    sim = dot / (norm1 * norm2)\n",
    "    return sim\n"
   ]
  },
  {
   "cell_type": "markdown",
   "metadata": {},
   "source": [
    "#### Normalized Euclidean Distance"
   ]
  },
  {
   "cell_type": "code",
   "execution_count": 175,
   "metadata": {},
   "outputs": [],
   "source": [
    "def normalized_euclidean_distance(row1, row2):\n",
    "    distance = 0.0\n",
    "    distance = 0.5*(np.std(row1-row2)**2) / (np.std(row1)**2+np.std(row2)**2)\n",
    "    return distance\n"
   ]
  },
  {
   "cell_type": "code",
   "execution_count": 248,
   "metadata": {},
   "outputs": [],
   "source": [
    "def intersection(lst1, lst2): \n",
    "    lst3 = [value for value in lst1 if value in lst2] \n",
    "    return lst3 "
   ]
  },
  {
   "cell_type": "markdown",
   "metadata": {},
   "source": [
    "## KNN Algorithm"
   ]
  },
  {
   "cell_type": "code",
   "execution_count": 323,
   "metadata": {},
   "outputs": [],
   "source": [
    "###Calculating Distances between test and development set rows\n",
    "## using above mentioned distance metrics\n",
    "def KNN_algo(x_test,x_develop,k,metric):\n",
    "    rows = x_test.shape[0]\n",
    "    columns = x_develop.shape[0]\n",
    "\n",
    "    ##initializing arrays of array\n",
    "    Edistance = np.zeros((rows,columns))\n",
    "    Cdistance = np.zeros((rows,columns))\n",
    "    NEdistance = np.zeros((rows,columns))\n",
    "\n",
    "\n",
    "    for row in range(rows):\n",
    "        for col in range(columns):\n",
    "            #for euclidean\n",
    "            Edistance[row,col] = euclidean_distance(x_test[row], x_develop[col])\n",
    "            #for cosine similarity\n",
    "            Cdistance[row,col] = cosine_similarity(x_test[row], x_develop[col])\n",
    "            #for normalized euclidean distance\n",
    "            NEdistance[row,col] = normalized_euclidean_distance(x_test[row], x_develop[col])\n",
    "\n",
    "    #print (Edistance)#Euclidean distance\n",
    "    #print (Cdistance)#Cosine Similarity\n",
    "    #print (NEdistance)#Normalized Euclidean distance\n",
    "\n",
    "    if metric.lower()=='euclidean':\n",
    "        rows = Edistance.shape[0]\n",
    "        E_pred = []\n",
    "        \n",
    "        for i in range(rows):\n",
    "            E_y_indexes = np.argsort(Edistance[i,:])\n",
    "            Eclosest = y_develop[E_y_indexes[:k]]\n",
    "            Evalue = Counter(Eclosest).most_common()\n",
    "            E_pred.append(Evalue[0][0])\n",
    "   \n",
    "        #print(E_pred)\n",
    "        num_correct = np.sum(E_pred == y_develop)\n",
    "        accuracy = float(num_correct)/y_develop.shape[0]\n",
    "        num_incorr = len(E_pred)-num_correct\n",
    "    \n",
    "    elif metric.lower()=='cosine':\n",
    "        rows = Cdistance.shape[0]\n",
    "        C_pred = []\n",
    "        \n",
    "        for i in range(rows):\n",
    "            C_y_indexes = np.argsort(Cdistance[i,:])\n",
    "            #print(C_y_indexes)\n",
    "            Cclosest = y_develop[C_y_indexes[:k]]\n",
    "            #print(Cclosest)\n",
    "            Cvalue = Counter(Cclosest).most_common()\n",
    "            #print(Cvalue)\n",
    "            C_pred.append(Cvalue[0][0])\n",
    "            \n",
    "        #print(C_pred)\n",
    "        #num_correct = np.sum(C_pred == y_develop)\n",
    "        #print(num_correct)\n",
    "        num_correct = len(intersection(C_pred,y_develop))\n",
    "        accuracy = float(num_correct)/y_develop.shape[0]\n",
    "        num_incorr = len(C_pred)-num_correct\n",
    "        \n",
    "    elif metric.lower()=='normalized euclidean':\n",
    "        rows = NEdistance.shape[0]\n",
    "        NE_pred = []\n",
    "\n",
    "        for i in range(rows):\n",
    "            NE_y_indexes = np.argsort(NEdistance[i,:])\n",
    "            NEclosest = y_develop[NE_y_indexes[:k]]\n",
    "            NEvalue = Counter(NEclosest).most_common()\n",
    "            NE_pred.append(NEvalue[0][0])   \n",
    "            \n",
    "        #print(NE_pred)\n",
    "        num_correct = np.sum(NE_pred == y_develop)\n",
    "        accuracy = float(num_correct)/y_develop.shape[0]\n",
    "        num_incorr = len(NE_pred)-num_correct\n",
    "    \n",
    "    print('ACCURACY-------------------------------------------------------------')    \n",
    "    print('Correctly classified instances:',num_correct)\n",
    "    print('Incorrectly classified instances:',num_incorr)\n",
    "    print(\"Accuracy based on\",metric,\" with\",k,\"Neighbors:\", accuracy*100,'%')\n",
    "    print('---------------------------------------------------------------------')\n",
    "\n",
    "    return accuracy\n",
    "\n"
   ]
  },
  {
   "cell_type": "markdown",
   "metadata": {},
   "source": [
    "### Calculating Accuracy using Development Dataset"
   ]
  },
  {
   "cell_type": "code",
   "execution_count": 324,
   "metadata": {},
   "outputs": [
    {
     "name": "stdout",
     "output_type": "stream",
     "text": [
      "ACCURACY-------------------------------------------------------------\n",
      "Correctly classified instances: 120\n",
      "Incorrectly classified instances: 0\n",
      "Accuracy based on euclidean  with 1 Neighbors: 100.0 %\n",
      "---------------------------------------------------------------------\n",
      "ACCURACY-------------------------------------------------------------\n",
      "Correctly classified instances: 117\n",
      "Incorrectly classified instances: 3\n",
      "Accuracy based on euclidean  with 3 Neighbors: 97.5 %\n",
      "---------------------------------------------------------------------\n",
      "ACCURACY-------------------------------------------------------------\n",
      "Correctly classified instances: 114\n",
      "Incorrectly classified instances: 6\n",
      "Accuracy based on euclidean  with 5 Neighbors: 95.0 %\n",
      "---------------------------------------------------------------------\n",
      "ACCURACY-------------------------------------------------------------\n",
      "Correctly classified instances: 117\n",
      "Incorrectly classified instances: 3\n",
      "Accuracy based on euclidean  with 7 Neighbors: 97.5 %\n",
      "---------------------------------------------------------------------\n",
      "ACCURACY-------------------------------------------------------------\n",
      "Correctly classified instances: 120\n",
      "Incorrectly classified instances: 0\n",
      "Accuracy based on cosine  with 1 Neighbors: 100.0 %\n",
      "---------------------------------------------------------------------\n",
      "ACCURACY-------------------------------------------------------------\n",
      "Correctly classified instances: 120\n",
      "Incorrectly classified instances: 0\n",
      "Accuracy based on cosine  with 3 Neighbors: 100.0 %\n",
      "---------------------------------------------------------------------\n",
      "ACCURACY-------------------------------------------------------------\n",
      "Correctly classified instances: 120\n",
      "Incorrectly classified instances: 0\n",
      "Accuracy based on cosine  with 5 Neighbors: 100.0 %\n",
      "---------------------------------------------------------------------\n",
      "ACCURACY-------------------------------------------------------------\n",
      "Correctly classified instances: 120\n",
      "Incorrectly classified instances: 0\n",
      "Accuracy based on cosine  with 7 Neighbors: 100.0 %\n",
      "---------------------------------------------------------------------\n",
      "ACCURACY-------------------------------------------------------------\n",
      "Correctly classified instances: 120\n",
      "Incorrectly classified instances: 0\n",
      "Accuracy based on normalized euclidean  with 1 Neighbors: 100.0 %\n",
      "---------------------------------------------------------------------\n",
      "ACCURACY-------------------------------------------------------------\n",
      "Correctly classified instances: 118\n",
      "Incorrectly classified instances: 2\n",
      "Accuracy based on normalized euclidean  with 3 Neighbors: 98.33333333333333 %\n",
      "---------------------------------------------------------------------\n",
      "ACCURACY-------------------------------------------------------------\n",
      "Correctly classified instances: 118\n",
      "Incorrectly classified instances: 2\n",
      "Accuracy based on normalized euclidean  with 5 Neighbors: 98.33333333333333 %\n",
      "---------------------------------------------------------------------\n",
      "ACCURACY-------------------------------------------------------------\n",
      "Correctly classified instances: 118\n",
      "Incorrectly classified instances: 2\n",
      "Accuracy based on normalized euclidean  with 7 Neighbors: 98.33333333333333 %\n",
      "---------------------------------------------------------------------\n"
     ]
    }
   ],
   "source": [
    "e1 = KNN_algo(x_develop,x_develop,1,'euclidean') *100\n",
    "e3 = KNN_algo(x_develop,x_develop,3,'euclidean') *100\n",
    "e5 = KNN_algo(x_develop,x_develop,5,'euclidean') *100\n",
    "e7 = KNN_algo(x_develop,x_develop,7,'euclidean') *100\n",
    "\n",
    "c1 = KNN_algo(x_develop,x_develop,1,'cosine') *100\n",
    "c3 = KNN_algo(x_develop,x_develop,3,'cosine') *100\n",
    "c5 = KNN_algo(x_develop,x_develop,5,'cosine') *100\n",
    "c7 = KNN_algo(x_develop,x_develop,7,'cosine') *100\n",
    "\n",
    "ne1 = KNN_algo(x_develop,x_develop,1,'normalized euclidean') *100\n",
    "ne3 = KNN_algo(x_develop,x_develop,3,'normalized euclidean') *100\n",
    "ne5 = KNN_algo(x_develop,x_develop,5,'normalized euclidean') *100\n",
    "ne7 = KNN_algo(x_develop,x_develop,7,'normalized euclidean') *100\n",
    "\n"
   ]
  },
  {
   "cell_type": "markdown",
   "metadata": {},
   "source": [
    "### Accuracy barcharts"
   ]
  },
  {
   "cell_type": "code",
   "execution_count": 283,
   "metadata": {},
   "outputs": [],
   "source": [
    "import matplotlib.pyplot as plt"
   ]
  },
  {
   "cell_type": "code",
   "execution_count": 325,
   "metadata": {},
   "outputs": [
    {
     "data": {
      "image/png": "[encoded data removed]",
      "text/plain": [
       "<Figure size 432x288 with 1 Axes>"
      ]
     },
     "metadata": {
      "needs_background": "light"
     },
     "output_type": "display_data"
    }
   ],
   "source": [
    "# data to plot\n",
    "n_groups = 4\n",
    "euclidean = (e1, e3, e5, e7)\n",
    "cosine = (c1, c3, c5, c7)\n",
    "normalized_euclidean = (ne1, ne3, ne5, ne7)\n",
    "\n",
    "# create plot\n",
    "fig, ax = plt.subplots()\n",
    "index = np.arange(n_groups)\n",
    "bar_width = 0.20\n",
    "opacity = 0.8\n",
    "\n",
    "rects1 = plt.bar(index, euclidean, bar_width,\n",
    "alpha=opacity,\n",
    "color='b',\n",
    "label='Euclidean')\n",
    "\n",
    "rects2 = plt.bar(index + bar_width, cosine, bar_width,\n",
    "alpha=opacity,\n",
    "color='g',\n",
    "label='Cosine')\n",
    "\n",
    "rects3 = plt.bar(index + bar_width + bar_width, normalized_euclidean, bar_width,\n",
    "alpha=opacity,\n",
    "color='r',\n",
    "label='Normalized Euclidean')\n",
    "\n",
    "\n",
    "\n",
    "plt.xlabel('K neighbors')\n",
    "plt.ylabel('Accuracy')\n",
    "plt.title('Accuracy')\n",
    "plt.xticks(index + bar_width, ('1', '3', '5', '7'))\n",
    "plt.legend()\n",
    "\n",
    "plt.tight_layout()\n",
    "plt.show()"
   ]
  },
  {
   "cell_type": "markdown",
   "metadata": {},
   "source": [
    "### Final Accuracy using test dataset"
   ]
  },
  {
   "cell_type": "code",
   "execution_count": 331,
   "metadata": {},
   "outputs": [],
   "source": [
    "#KNN algorithm\n",
    "\n",
    "###Calculating Distances between test and development set rows\n",
    "## using above mentioned distance metrics\n",
    "def KNN_algo(x_test,x_develop,k,metric):\n",
    "    rows = x_test.shape[0]\n",
    "    columns = x_develop.shape[0]\n",
    "\n",
    "    ##initializing arrays of array\n",
    "    Edistance = np.zeros((rows,columns))\n",
    "    Cdistance = np.zeros((rows,columns))\n",
    "    NEdistance = np.zeros((rows,columns))\n",
    "\n",
    "\n",
    "    for row in range(rows):\n",
    "        for col in range(columns):\n",
    "            #for euclidean\n",
    "            Edistance[row,col] = euclidean_distance(x_test[row], x_develop[col])\n",
    "            #for cosine similarity\n",
    "            Cdistance[row,col] = cosine_similarity(x_test[row], x_develop[col])\n",
    "            #for normalized euclidean distance\n",
    "            NEdistance[row,col] = normalized_euclidean_distance(x_test[row], x_develop[col])\n",
    "\n",
    "    #print (Edistance)#Euclidean distance\n",
    "    #print (Cdistance)#Cosine Similarity\n",
    "    #print (NEdistance)#Normalized Euclidean distance\n",
    "\n",
    "    if metric.lower()=='euclidean':\n",
    "        rows = Edistance.shape[0]\n",
    "        E_pred = []\n",
    "        \n",
    "        for i in range(rows):\n",
    "            E_y_indexes = np.argsort(Edistance[i,:])\n",
    "            Eclosest = y_develop[E_y_indexes[:k]]\n",
    "            Evalue = Counter(Eclosest).most_common()\n",
    "            E_pred.append(Evalue[0][0])\n",
    "   \n",
    "        #print(E_pred)\n",
    "        num_correct = np.sum(E_pred == y_test)\n",
    "        accuracy = float(num_correct)/y_test.shape[0]\n",
    "        num_incorr = len(E_pred)-num_correct\n",
    "    \n",
    "    elif metric.lower()=='cosine':\n",
    "        rows = Cdistance.shape[0]\n",
    "        C_pred = []\n",
    "        \n",
    "        for i in range(rows):\n",
    "            C_y_indexes = np.argsort(Cdistance[i,:])\n",
    "            #print(C_y_indexes)\n",
    "            Cclosest = y_develop[C_y_indexes[:k]]\n",
    "            #print(Cclosest)\n",
    "            Cvalue = Counter(Cclosest).most_common()\n",
    "            #print(Cvalue)\n",
    "            C_pred.append(Cvalue[0][0])\n",
    "            \n",
    "        #print(C_pred)\n",
    "        #num_correct = np.sum(C_pred == y_test)\n",
    "        #print(num_correct)\n",
    "        num_correct = len(intersection(C_pred,y_test))\n",
    "        accuracy = float(num_correct)/y_test.shape[0]\n",
    "        num_incorr = len(C_pred)-num_correct\n",
    "        \n",
    "    elif metric.lower()=='normalized euclidean':\n",
    "        rows = NEdistance.shape[0]\n",
    "        NE_pred = []\n",
    "\n",
    "        for i in range(rows):\n",
    "            NE_y_indexes = np.argsort(NEdistance[i,:])\n",
    "            NEclosest = y_develop[NE_y_indexes[:k]]\n",
    "            NEvalue = Counter(NEclosest).most_common()\n",
    "            NE_pred.append(NEvalue[0][0])   \n",
    "            \n",
    "        #print(NE_pred)\n",
    "        num_correct = np.sum(NE_pred == y_test)\n",
    "        accuracy = float(num_correct)/y_test.shape[0]\n",
    "        num_incorr = len(NE_pred)-num_correct\n",
    "    \n",
    "    print('ACCURACY-------------------------------------------------------------')    \n",
    "    print('Correctly classified instances:',num_correct)\n",
    "    print('Incorrectly classified instances:',num_incorr)\n",
    "    print(\"Accuracy based on\",metric,\" with\",k,\"Neighbors:\", accuracy*100,'%')\n",
    "    print('---------------------------------------------------------------------')\n",
    "\n",
    "    return accuracy\n",
    "\n"
   ]
  },
  {
   "cell_type": "code",
   "execution_count": 334,
   "metadata": {},
   "outputs": [
    {
     "name": "stdout",
     "output_type": "stream",
     "text": [
      "ACCURACY-------------------------------------------------------------\n",
      "Correctly classified instances: 28\n",
      "Incorrectly classified instances: 2\n",
      "Accuracy based on normalized euclidean  with 7 Neighbors: 93.33333333333333 %\n",
      "---------------------------------------------------------------------\n"
     ]
    }
   ],
   "source": [
    "#using normalized euclidean as distance metric and K=7 for number of nearest neighbors\n",
    "ne7 = KNN_algo(x_test,x_develop,7,'normalized euclidean') *100\n"
   ]
  },
  {
   "cell_type": "code",
   "execution_count": null,
   "metadata": {},
   "outputs": [],
   "source": []
  }
 ],
 "metadata": {
  "kernelspec": {
   "display_name": "Python 3",
   "language": "python",
   "name": "python3"
  },
  "language_info": {
   "codemirror_mode": {
    "name": "ipython",
    "version": 3
   },
   "file_extension": ".py",
   "mimetype": "text/x-python",
   "name": "python",
   "nbconvert_exporter": "python",
   "pygments_lexer": "ipython3",
   "version": "3.8.2"
  }
 },
 "nbformat": 4,
 "nbformat_minor": 4
}
